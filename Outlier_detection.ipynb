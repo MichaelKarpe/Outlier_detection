{
 "cells": [
  {
   "cell_type": "markdown",
   "metadata": {},
   "source": [
    "# Outlier detection\n",
    "\n",
    "## Choose and generate dataset"
   ]
  },
  {
   "cell_type": "code",
   "execution_count": 1,
   "metadata": {},
   "outputs": [
    {
     "name": "stderr",
     "output_type": "stream",
     "text": [
      "Using TensorFlow backend.\n"
     ]
    }
   ],
   "source": [
    "from keras.layers import Input, Dense\n",
    "from keras.models import Model\n",
    "\n",
    "from matplotlib.colors import Normalize\n",
    "\n",
    "from sklearn import datasets, metrics, preprocessing, svm\n",
    "from sklearn.covariance import EllipticEnvelope\n",
    "from sklearn.datasets import load_iris\n",
    "from sklearn.ensemble import IsolationForest\n",
    "from sklearn.feature_selection import VarianceThreshold\n",
    "from sklearn.linear_model import LogisticRegression\n",
    "from sklearn.metrics import accuracy_score, f1_score, make_scorer, recall_score, roc_auc_score\n",
    "from sklearn.metrics import average_precision_score, classification_report, precision_recall_curve\n",
    "from sklearn.model_selection import GridSearchCV, StratifiedKFold, StratifiedShuffleSplit, train_test_split\n",
    "from sklearn.neighbors import LocalOutlierFactor\n",
    "from sklearn.preprocessing import normalize, StandardScaler\n",
    "from sklearn.svm import SVC\n",
    "\n",
    "import matplotlib.pyplot as plt\n",
    "import numpy as np\n",
    "import pandas as pd"
   ]
  },
  {
   "cell_type": "code",
   "execution_count": 2,
   "metadata": {},
   "outputs": [],
   "source": [
    "#A changer selon l'ordinateur\n",
    "pathtodata='./Data_OK/'"
   ]
  },
  {
   "cell_type": "code",
   "execution_count": 3,
   "metadata": {},
   "outputs": [],
   "source": [
    "datasetsnames=[\"generated\",\"creditcard\",\"http\",\"kdd10\",\"kdd\",\"smtp\"]\n",
    "\n",
    "#Changer le numéro pour choisir le nom\n",
    "datasetname=datasetsnames[1]"
   ]
  },
  {
   "cell_type": "markdown",
   "metadata": {},
   "source": [
    "- N.B. : creditcard ne fonctionne pas pour LocalOutlierFactor\n",
    "- kdd est trop gros (fonctionne pour 40% pour 16 GB RAM), utiliser seulement kdd10\n",
    "- smtp ne présente que 3 outliers, inintéressant"
   ]
  },
  {
   "cell_type": "code",
   "execution_count": 4,
   "metadata": {
    "scrolled": true
   },
   "outputs": [],
   "source": [
    "def column_generator(nbvar):\n",
    "    SAcolumns=[]\n",
    "    for i in range(1,nbvar+1):\n",
    "        SAcolumns.append(\"var_{}\".format(i))\n",
    "    SAcolumns.append(\"label\")\n",
    "    return SAcolumns\n",
    "\n",
    "def data_set(dataname):\n",
    "    if dataname==\"generated\":\n",
    "        return pd.read_csv(pathtodata+'Data_2.csv', low_memory=False)\n",
    "    elif dataname==\"creditcard\":\n",
    "        return pd.read_csv(pathtodata+'creditcard_2.csv', low_memory=False)\n",
    "    elif dataname==\"smtp\" or dataname==\"http\" or dataname==\"SA\" or dataname==\"SF\":\n",
    "        dataset=datasets.fetch_kddcup99(subset=dataname, data_home=None, shuffle=False, random_state=None, percent10=True, download_if_missing=True)\n",
    "        data=dataset['data']\n",
    "        target=dataset['target']\n",
    "        data=np.append(data,np.array(target).reshape(-1,1),axis=1)\n",
    "        if dataname==\"smtp\" or dataname==\"http\":\n",
    "            return pd.DataFrame(data=data,columns=column_generator(3))\n",
    "        elif dataname==\"SF\":\n",
    "            return pd.DataFrame(data=data,columns=column_generator(4))\n",
    "        elif dataname==\"SA\":\n",
    "            return pd.DataFrame(data=data,columns=column_generator(41))\n",
    "    elif dataname==\"kdd10\":\n",
    "        return pd.read_csv(pathtodata+'kddcup.data_10_percent_corrected.csv', header=None, low_memory=False)\n",
    "    elif dataname==\"kdd\":\n",
    "        return pd.read_csv(pathtodata+'kddcup.data.corrected.csv', header=None, low_memory=False)"
   ]
  },
  {
   "cell_type": "code",
   "execution_count": 5,
   "metadata": {},
   "outputs": [],
   "source": [
    "data=data_set(datasetname)"
   ]
  },
  {
   "cell_type": "markdown",
   "metadata": {},
   "source": [
    "## Making our data one-class\n",
    "\n",
    "1) Convert the outliers into class 1 (normal) and class -1 (outlier) <br>\n",
    "2) Copy outlier labels to evaluate performance later <br>\n",
    "3) Compute proportion of outliers <br>\n",
    "4) Drop label and useless columns from the dataframe, to do unsupervised training with unlabelled data"
   ]
  },
  {
   "cell_type": "code",
   "execution_count": 6,
   "metadata": {
    "scrolled": true
   },
   "outputs": [
    {
     "name": "stdout",
     "output_type": "stream",
     "text": [
      "outliers.shape (492,)\n",
      "outlier fraction 0.001727485630620034\n",
      "(284807, 29)\n"
     ]
    }
   ],
   "source": [
    "all_label_columns = {\"generated\": 'label',\n",
    "                      \"creditcard\": 'label',\n",
    "                      \"kdd10\": 41,\n",
    "                      \"kdd\": 41,\n",
    "                      \"smtp\": 'label', \n",
    "                      \"http\": 'label',\n",
    "                      \"SA\": 'label',\n",
    "                      \"SF\": 'label'}\n",
    "all_normal_labels = {\"generated\": \"b'0'\",\n",
    "                       \"creditcard\": 0,\n",
    "                       \"kdd10\": \"normal.\",\n",
    "                       \"kdd\": \"normal.\", \n",
    "                       \"smtp\": b'normal.', \n",
    "                       \"http\": b'normal.', \n",
    "                       \"SA\": b'normal.', \n",
    "                       \"SF\": b'normal.'}\n",
    "\n",
    "label_column = all_label_columns[datasetname]\n",
    "normal_label = all_normal_labels[datasetname]\n",
    "\n",
    "normal_value = -1\n",
    "outlier_value = 1\n",
    "\n",
    "data.loc[data[label_column] != normal_label, \"outlier\"] = outlier_value\n",
    "data.loc[data[label_column] == normal_label, \"outlier\"] = normal_value\n",
    "if datasetname==\"kdd10\" or datasetname==\"kdd\":\n",
    "    data.loc[data[label_column] == \"smurf.\", \"outlier\"] = normal_value \n",
    "    data.loc[data[label_column] == \"neptune.\", \"outlier\"] = normal_value \n",
    "\n",
    "target = data['outlier']\n",
    "\n",
    "outliers = target[target == outlier_value]  \n",
    "print(\"outliers.shape\", outliers.shape)  \n",
    "print(\"outlier fraction\", outliers.shape[0]/target.shape[0])\n",
    "\n",
    "all_useless_columns = {\"generated\": [\"label\", \"outlier\"],\n",
    "                     \"creditcard\": [\"Time\", \"label\", \"outlier\"],\n",
    "                     \"kdd10\": [41, 1, 2, 3, \"outlier\"],\n",
    "                     \"kdd\": [41, 1, 2, 3, \"outlier\"],  \n",
    "                     \"smtp\": [\"label\", \"outlier\"], \n",
    "                     \"http\": [\"label\", \"outlier\"], \n",
    "                     \"SA\": [\"label\", \"var_2\", \"var_3\", \"var_4\", \"outlier\"], \n",
    "                     \"SF\": [\"label\", \"var_2\", \"outlier\"]\n",
    "                    }\n",
    "\n",
    "useless_columns = all_useless_columns[datasetname]\n",
    "data.drop(useless_columns, axis=1, inplace=True)\n",
    "\n",
    "print(data.shape) "
   ]
  },
  {
   "cell_type": "markdown",
   "metadata": {},
   "source": [
    "## Proportion of outliers"
   ]
  },
  {
   "cell_type": "code",
   "execution_count": 7,
   "metadata": {},
   "outputs": [
    {
     "name": "stdout",
     "output_type": "stream",
     "text": [
      "nu =  0.001727485630620034\n"
     ]
    }
   ],
   "source": [
    "nu = outliers.shape[0] / target.shape[0]  \n",
    "print(\"nu = \", nu)"
   ]
  },
  {
   "cell_type": "markdown",
   "metadata": {},
   "source": [
    "## Normalize data"
   ]
  },
  {
   "cell_type": "code",
   "execution_count": 8,
   "metadata": {},
   "outputs": [],
   "source": [
    "def normalized_data(data, type_normalization):\n",
    "    if type_normalization==\"normalizer\":\n",
    "        return normalize(data,axis=0)\n",
    "    elif type_normalization==\"minmaxscaler\":\n",
    "        min_max_scaler = preprocessing.MinMaxScaler()\n",
    "        return min_max_scaler.fit_transform(data)\n",
    "    elif type_normalization==\"standardscaler\":\n",
    "        standard_scaler = preprocessing.StandardScaler()\n",
    "        return standard_scaler.fit_transform(data)\n",
    "    elif type_normalization==False:\n",
    "        return data"
   ]
  },
  {
   "cell_type": "code",
   "execution_count": 9,
   "metadata": {},
   "outputs": [],
   "source": [
    "normalization_types = [\"normalizer\",\"minmaxscaler\",\"standardscaler\",False]\n",
    "\n",
    "#Choisir la normalisation minmaxscaler pour Autoencoder\n",
    "chosen_normalization = normalization_types[2] "
   ]
  },
  {
   "cell_type": "code",
   "execution_count": 10,
   "metadata": {},
   "outputs": [],
   "source": [
    "data = normalized_data(data, chosen_normalization)"
   ]
  },
  {
   "cell_type": "markdown",
   "metadata": {},
   "source": [
    "## Shuffling and splitting data into training and test sets"
   ]
  },
  {
   "cell_type": "code",
   "execution_count": 11,
   "metadata": {},
   "outputs": [],
   "source": [
    "def data_split(data,target,ratio):\n",
    "    if 0<ratio and ratio<1:\n",
    "        X_train, X_test, y_train, y_test = train_test_split(data, target, shuffle = True, train_size = ratio)\n",
    "    elif ratio==1:\n",
    "        X_train, X_test, y_train, y_test = data, data, target, target\n",
    "    return X_train, X_test, y_train, y_test"
   ]
  },
  {
   "cell_type": "code",
   "execution_count": 12,
   "metadata": {},
   "outputs": [],
   "source": [
    "X_train, X_test, y_train, y_test = data_split(data, target, 1)"
   ]
  },
  {
   "cell_type": "code",
   "execution_count": 13,
   "metadata": {
    "scrolled": true
   },
   "outputs": [
    {
     "data": {
      "text/plain": [
       "(284807, 29)"
      ]
     },
     "execution_count": 13,
     "metadata": {},
     "output_type": "execute_result"
    }
   ],
   "source": [
    "X_train.shape"
   ]
  },
  {
   "cell_type": "markdown",
   "metadata": {},
   "source": [
    "## Profit function"
   ]
  },
  {
   "cell_type": "code",
   "execution_count": 14,
   "metadata": {},
   "outputs": [],
   "source": [
    "def profit(y_true,y_pred,verbose=True):\n",
    "    true_positive = np.sum(np.where(np.logical_and(y_true==1,y_pred==1),1,0))\n",
    "    false_positive = np.sum(np.where(np.logical_and(y_true==-1,y_pred==1),1,0))\n",
    "    positive = np.sum(np.where(y_true==1,1,0))\n",
    "    negative = len(y_true)-positive\n",
    "    if verbose:\n",
    "        print(\"True Positive Rate: \", true_positive/positive)\n",
    "        print(\"Number of False Positive: \", false_positive)\n",
    "        print(\"False Positive Rate: \", false_positive/negative)\n",
    "        print()\n",
    "    return 160*(2*true_positive/positive-1) - 160*false_positive/negative"
   ]
  },
  {
   "cell_type": "markdown",
   "metadata": {},
   "source": [
    "## Training the model\n",
    "\n",
    "$\\nu$ is the proportion of outliers in our dataset."
   ]
  },
  {
   "cell_type": "code",
   "execution_count": 15,
   "metadata": {},
   "outputs": [
    {
     "name": "stdout",
     "output_type": "stream",
     "text": [
      "nu =  0.001727485630620034\n"
     ]
    }
   ],
   "source": [
    "nu = outliers.shape[0] / target.shape[0]  \n",
    "print(\"nu = \", nu)"
   ]
  },
  {
   "cell_type": "code",
   "execution_count": 16,
   "metadata": {
    "scrolled": true
   },
   "outputs": [],
   "source": [
    "def choose_classifier(classifier_name):\n",
    "    if classifier_name == \"OneClassSVM\":\n",
    "        return svm.OneClassSVM(nu=nu,kernel='rbf', gamma=0.1,max_iter=1000) \n",
    "    elif classifier_name == \"IsolationForest\":\n",
    "        return IsolationForest(contamination=0.478947368421)\n",
    "    elif classifier_name == \"LocalOutlierFactor\":\n",
    "        return LocalOutlierFactor(n_neighbors=20,contamination=nu)\n",
    "    elif classifier_name == \"EllipticEnvelope\":\n",
    "        return EllipticEnvelope(contamination = nu)\n",
    "    elif classifier_name == \"Autoencoder\":\n",
    "        encoding_dim = int(0.8*X_train.shape[1])\n",
    "        input = Input(shape=(X_train.shape[1],)) \n",
    "        encoded_1 = Dense(encoding_dim, activation='relu')(input)\n",
    "        decoded_2 = Dense(X_train.shape[1], activation='sigmoid')(encoded_1)\n",
    "        autoencoder = Model(inputs=input, outputs=decoded_2)\n",
    "        encoder = Model(inputs=input, outputs=encoded_1)\n",
    "        autoencoder.compile(optimizer='adadelta', loss='binary_crossentropy')\n",
    "        return autoencoder"
   ]
  },
  {
   "cell_type": "code",
   "execution_count": 17,
   "metadata": {},
   "outputs": [],
   "source": [
    "list_classifiers=[\"OneClassSVM\",\"IsolationForest\",\"LocalOutlierFactor\",\"EllipticEnvelope\",\"Autoencoder\"]\n",
    "\n",
    "#Changer le numéro pour choisir le nom\n",
    "chosen_classifier = list_classifiers[1]"
   ]
  },
  {
   "cell_type": "code",
   "execution_count": 18,
   "metadata": {},
   "outputs": [],
   "source": [
    "classifier = choose_classifier(chosen_classifier)"
   ]
  },
  {
   "cell_type": "markdown",
   "metadata": {},
   "source": [
    "## Compute score"
   ]
  },
  {
   "cell_type": "code",
   "execution_count": 19,
   "metadata": {
    "scrolled": true
   },
   "outputs": [],
   "source": [
    "def compute_score(classifier_name):\n",
    "    if classifier_name == \"LocalOutlierFactor\":\n",
    "        classifier.fit(X_train)\n",
    "        return classifier.negative_outlier_factor_\n",
    "    elif classifier_name == \"Autoencoder\":\n",
    "        #Ajuster epochs au dataset d'entrée\n",
    "        classifier.fit(X_train, X_train,epochs=100,batch_size=X_train.shape[1],shuffle=True,verbose=1) \n",
    "        decoded = classifier.predict(X_train)\n",
    "        dist = np.zeros(X_train.shape[0])\n",
    "        for i, x in enumerate(X_train):\n",
    "            dist[i] = np.linalg.norm(x-decoded[i], ord = np.inf)\n",
    "        return dist\n",
    "    else:\n",
    "        return normal_value*classifier.fit(X_train).decision_function(X_test)"
   ]
  },
  {
   "cell_type": "code",
   "execution_count": 20,
   "metadata": {},
   "outputs": [],
   "source": [
    "y_score=compute_score(chosen_classifier)"
   ]
  },
  {
   "cell_type": "markdown",
   "metadata": {},
   "source": [
    "## Checking accuracy of the model"
   ]
  },
  {
   "cell_type": "code",
   "execution_count": 21,
   "metadata": {},
   "outputs": [],
   "source": [
    "def show_results(y_pred, y_true):\n",
    "    print(\"Results on train data\")\n",
    "    print(\"accuracy: \", round(metrics.accuracy_score(y_true, y_pred),3))  \n",
    "    print(\"precision: \", round(metrics.precision_score(y_true, y_pred),3))  \n",
    "    print(\"recall: \", round(metrics.recall_score(y_true, y_pred),3))  \n",
    "    print(\"f1: \", round(metrics.f1_score(y_true, y_pred),3))  \n",
    "    print(\"area under curve (auc): \", round(metrics.roc_auc_score(y_true, y_score),3))\n",
    "    print()"
   ]
  },
  {
   "cell_type": "code",
   "execution_count": 22,
   "metadata": {},
   "outputs": [],
   "source": [
    "def compute_pred(classifier_name) :\n",
    "    if classifier_name == \"LocalOutlierFactor\":\n",
    "        return classifier.fit_predict(X_train)\n",
    "    elif classifier_name == \"Autoencoder\":\n",
    "        threshold = 0.08 #A ajuster\n",
    "        return np.where(y_score >= threshold,1,-1)\n",
    "    else:\n",
    "        return normal_value*classifier.predict(X_train)"
   ]
  },
  {
   "cell_type": "markdown",
   "metadata": {},
   "source": [
    "### On train data"
   ]
  },
  {
   "cell_type": "code",
   "execution_count": 23,
   "metadata": {},
   "outputs": [
    {
     "name": "stdout",
     "output_type": "stream",
     "text": [
      "Results on train data\n",
      "accuracy:  0.523\n",
      "precision:  0.003\n",
      "recall:  0.963\n",
      "f1:  0.007\n",
      "area under curve (auc):  0.948\n",
      "\n"
     ]
    }
   ],
   "source": [
    "y_pred = compute_pred(chosen_classifier)\n",
    "y_true = y_train\n",
    "show_results(y_pred,y_true)"
   ]
  },
  {
   "cell_type": "markdown",
   "metadata": {},
   "source": [
    "### On test data"
   ]
  },
  {
   "cell_type": "code",
   "execution_count": 24,
   "metadata": {
    "scrolled": true
   },
   "outputs": [
    {
     "name": "stdout",
     "output_type": "stream",
     "text": [
      "Results on train data\n",
      "accuracy:  0.523\n",
      "precision:  0.003\n",
      "recall:  0.963\n",
      "f1:  0.007\n",
      "area under curve (auc):  0.948\n",
      "\n"
     ]
    }
   ],
   "source": [
    "y_pred = compute_pred(chosen_classifier)\n",
    "y_true = y_test\n",
    "show_results(y_pred,y_true)"
   ]
  },
  {
   "cell_type": "markdown",
   "metadata": {},
   "source": [
    "## Plot ROC curve\n",
    "\n",
    "$x = $ false positive rate, $y = $ true positive rate"
   ]
  },
  {
   "cell_type": "code",
   "execution_count": 25,
   "metadata": {
    "scrolled": true
   },
   "outputs": [
    {
     "data": {
      "image/png": "[encoded data removed]",
      "text/plain": [
       "<matplotlib.figure.Figure at 0x7fba3bbee550>"
      ]
     },
     "metadata": {},
     "output_type": "display_data"
    }
   ],
   "source": [
    "fpr, tpr, thresholds = metrics.roc_curve(y_test, y_score)\n",
    "# metrics.roc_auc_score\n",
    "x = np.linspace(0,1,500)\n",
    "plt.plot(fpr,tpr)\n",
    "plt.plot(x,x,'--')\n",
    "plt.xlabel('False positive rate')\n",
    "plt.ylabel('True positive rate')\n",
    "plt.ylim([0.0, 1.0])\n",
    "plt.xlim([0.0, 1.0])\n",
    "plt.title('ROC curve with {}'.format(chosen_classifier))\n",
    "plt.savefig(\"ROC_curve_{}_{}.png\".format(datasetname,chosen_classifier), bbox_inches='tight')\n",
    "plt.show()"
   ]
  },
  {
   "cell_type": "markdown",
   "metadata": {},
   "source": [
    "## Plot score"
   ]
  },
  {
   "cell_type": "code",
   "execution_count": 26,
   "metadata": {},
   "outputs": [],
   "source": [
    "def draw_performance():\n",
    "    inliers, outliers, inliers_scores, outliers_scores = [], [], [], []\n",
    "    for i in range(len(target)):\n",
    "        if target[i] == normal_value:\n",
    "            inliers.append(i)\n",
    "            inliers_scores.append(y_score[i])\n",
    "        else:\n",
    "            outliers.append(i)\n",
    "            outliers_scores.append(y_score[i])\n",
    "    plt.scatter(inliers,inliers_scores,c='blue',label=\"Inliers\")\n",
    "    plt.scatter(outliers,outliers_scores,c='red',label=\"Outliers\")\n",
    "    plt.legend()\n",
    "    plt.title(\"Outlier score\")\n",
    "    plt.xlabel('Index')\n",
    "    plt.ylabel('Score')\n",
    "    plt.savefig(\"Plot_score_{}_{}.png\".format(datasetname,chosen_classifier), bbox_inches='tight')"
   ]
  },
  {
   "cell_type": "code",
   "execution_count": 27,
   "metadata": {},
   "outputs": [
    {
     "data": {
      "image/png": "[encoded data removed]",
      "text/plain": [
       "<matplotlib.figure.Figure at 0x7fba3bbad4e0>"
      ]
     },
     "metadata": {},
     "output_type": "display_data"
    }
   ],
   "source": [
    "plt.ylim(min(y_score),max(y_score))\n",
    "draw_performance()\n",
    "plt.show()"
   ]
  },
  {
   "cell_type": "markdown",
   "metadata": {},
   "source": [
    "## Plot Precision-Recall curve"
   ]
  },
  {
   "cell_type": "code",
   "execution_count": 28,
   "metadata": {
    "scrolled": true
   },
   "outputs": [
    {
     "name": "stdout",
     "output_type": "stream",
     "text": [
      "Average precision-recall score: 0.15\n"
     ]
    }
   ],
   "source": [
    "average_precision = average_precision_score(y_test, y_score)\n",
    "print('Average precision-recall score: {0:0.2f}'.format(\n",
    "      average_precision))\n",
    "\n",
    "precision, recall,thresholds  = precision_recall_curve(y_test, y_score)\n",
    "# f1_score = 2*precision*recall/(precision+recall)\n",
    "# max_f1_score = max(f1_score)\n",
    "# index_max = np.where(f1_score == max(f1_score))[0][0]\n",
    "# print(precision[index_max],recall[index_max])"
   ]
  },
  {
   "cell_type": "code",
   "execution_count": 29,
   "metadata": {},
   "outputs": [
    {
     "data": {
      "image/png": "[encoded data removed]",
      "text/plain": [
       "<matplotlib.figure.Figure at 0x7fba38b6c0b8>"
      ]
     },
     "metadata": {},
     "output_type": "display_data"
    }
   ],
   "source": [
    "plt.step(recall, precision, color='b', alpha=0.2,\n",
    "         where='post')\n",
    "plt.fill_between(recall, precision, step='post', alpha=0.2,\n",
    "                 color='b')\n",
    "plt.xlabel('Recall')\n",
    "plt.ylabel('Precision')\n",
    "plt.ylim([0.0, 1.0])\n",
    "plt.xlim([0.0, 1.0])\n",
    "plt.title('Precision-Recall curve: AP={0:0.2f}'.format(\n",
    "          average_precision))\n",
    "plt.show()"
   ]
  }
 ],
 "metadata": {
  "kernelspec": {
   "display_name": "Python 3",
   "language": "python",
   "name": "python3"
  },
  "language_info": {
   "codemirror_mode": {
    "name": "ipython",
    "version": 3
   },
   "file_extension": ".py",
   "mimetype": "text/x-python",
   "name": "python",
   "nbconvert_exporter": "python",
   "pygments_lexer": "ipython3",
   "version": "3.5.2"
  }
 },
 "nbformat": 4,
 "nbformat_minor": 2
}
